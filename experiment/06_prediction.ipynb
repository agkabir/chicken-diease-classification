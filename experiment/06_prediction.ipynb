{
 "cells": [
  {
   "cell_type": "code",
   "execution_count": 5,
   "metadata": {},
   "outputs": [],
   "source": [
    "import os"
   ]
  },
  {
   "cell_type": "code",
   "execution_count": 6,
   "metadata": {},
   "outputs": [
    {
     "data": {
      "text/plain": [
       "'/Users/alamgirkabir/chicken-diease-classification/experiment'"
      ]
     },
     "execution_count": 6,
     "metadata": {},
     "output_type": "execute_result"
    }
   ],
   "source": [
    "%pwd"
   ]
  },
  {
   "cell_type": "code",
   "execution_count": 7,
   "metadata": {},
   "outputs": [],
   "source": [
    "os.chdir('../')"
   ]
  },
  {
   "cell_type": "code",
   "execution_count": 43,
   "metadata": {},
   "outputs": [],
   "source": [
    "import numpy as np\n",
    "from tensorflow.keras.models import load_model\n",
    "from tensorflow.keras.preprocessing import image\n",
    "\n",
    "class PredictionPipeline:\n",
    "    def __init__(self, filename):\n",
    "        self.filename = filename\n",
    "\n",
    "    def predict(self):\n",
    "        # load model \n",
    "        model = load_model(os.path.join('artifacts','training','model.h5'))\n",
    "        test_image = image.load_img(self.filename, target_size =(224,224))\n",
    "        test_image = np.expand_dims(test_image,axis=0)\n",
    "        result = np.argmax(model.predict(test_image), axis=1)\n",
    "        #{'Coccidiosis': 0, 'Healthy': 1, 'New Castle Disease': 2, 'Salmonella': 3}\n",
    "        if result[0] == 0:\n",
    "            return [{\"image\":'Coccidiosis'}]\n",
    "        elif result[0] == 1:\n",
    "            return [{\"image\":'Healthy'}]\n",
    "        elif result[0] == 2:\n",
    "            return [{\"image\":'New Castle Disease'}]\n",
    "        else:\n",
    "            return [{\"image\":'Salmonella'}]"
   ]
  },
  {
   "cell_type": "code",
   "execution_count": 44,
   "metadata": {},
   "outputs": [],
   "source": [
    "test_image_1 = 'artifacts/data_ingestion/Train/cocci.22.jpg'\n",
    "test_image_2 = 'artifacts/data_ingestion/Train/healthy.1041.jpg'\n",
    "test_image_3 = 'artifacts/data_ingestion/Train/cocci.0.jpg'\n",
    "test_image_4 = 'artifacts/data_ingestion/Train/pcrncd.60.jpg'\n",
    "test_image_5 = 'artifacts/data_ingestion/Train/salmo.2272.jpg'\n",
    "test_image_6 = 'artifacts/data_ingestion/Train/pcrcocci.27.jpg'\n",
    "test_image_7 = 'artifacts/data_ingestion/Train/ncd.355.jpg'\n",
    "test_image_8 = 'artifacts/data_ingestion/Train/pcrncd.177.jpg'\n"
   ]
  },
  {
   "cell_type": "code",
   "execution_count": 47,
   "metadata": {},
   "outputs": [
    {
     "name": "stdout",
     "output_type": "stream",
     "text": [
      "1/1 [==============================] - 1s 527ms/step\n"
     ]
    },
    {
     "data": {
      "text/plain": [
       "[{'image': 'Coccidiosis'}]"
      ]
     },
     "execution_count": 47,
     "metadata": {},
     "output_type": "execute_result"
    }
   ],
   "source": [
    "predicttion_pipeline = PredictionPipeline(test_image_4)\n",
    "predicttion_pipeline.predict()"
   ]
  }
 ],
 "metadata": {
  "kernelspec": {
   "display_name": "chicken-diease",
   "language": "python",
   "name": "python3"
  },
  "language_info": {
   "codemirror_mode": {
    "name": "ipython",
    "version": 3
   },
   "file_extension": ".py",
   "mimetype": "text/x-python",
   "name": "python",
   "nbconvert_exporter": "python",
   "pygments_lexer": "ipython3",
   "version": "3.8.2"
  }
 },
 "nbformat": 4,
 "nbformat_minor": 2
}
